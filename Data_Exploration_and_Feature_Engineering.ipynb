{
  "nbformat": 4,
  "nbformat_minor": 0,
  "metadata": {
    "kernelspec": {
      "display_name": "Python 3",
      "language": "python",
      "name": "python3"
    },
    "language_info": {
      "codemirror_mode": {
        "name": "ipython",
        "version": 3
      },
      "file_extension": ".py",
      "mimetype": "text/x-python",
      "name": "python",
      "nbconvert_exporter": "python",
      "pygments_lexer": "ipython3",
      "version": "3.7.6"
    },
    "colab": {
      "name": "Data Exploration and Feature Engineering.ipynb",
      "provenance": [],
      "collapsed_sections": []
    }
  },
  "cells": [
    {
      "cell_type": "code",
      "metadata": {
        "id": "XxUE2ApZuyNK",
        "colab_type": "code",
        "colab": {
          "base_uri": "https://localhost:8080/",
          "height": 34
        },
        "outputId": "888d3448-6d05-43af-bcac-e9576a835a76"
      },
      "source": [
        "from google.colab import drive\n",
        "drive.mount('/content/drive')"
      ],
      "execution_count": null,
      "outputs": [
        {
          "output_type": "stream",
          "text": [
            "Drive already mounted at /content/drive; to attempt to forcibly remount, call drive.mount(\"/content/drive\", force_remount=True).\n"
          ],
          "name": "stdout"
        }
      ]
    },
    {
      "cell_type": "code",
      "metadata": {
        "id": "n1VjlBAMuPej",
        "colab_type": "code",
        "colab": {}
      },
      "source": [
        "# !pip install tqdm\n",
        "# !pip install fancyimpute"
      ],
      "execution_count": null,
      "outputs": []
    },
    {
      "cell_type": "code",
      "metadata": {
        "id": "WuOVdl5xuPeo",
        "colab_type": "code",
        "colab": {}
      },
      "source": [
        "################## USED PACKAGES #######################\n",
        "import pandas as pd\n",
        "import numpy as np\n",
        "from tqdm import tqdm\n",
        "import math\n",
        "from matplotlib import pyplot as plt\n",
        "from sklearn import preprocessing\n",
        "from sklearn.impute import KNNImputer\n",
        "from fancyimpute import IterativeImputer as MICE\n",
        "\n",
        "from sklearn.experimental import enable_iterative_imputer\n",
        "from sklearn.impute import IterativeImputer"
      ],
      "execution_count": null,
      "outputs": []
    },
    {
      "cell_type": "code",
      "metadata": {
        "id": "ixbHaCz3uPer",
        "colab_type": "code",
        "colab": {}
      },
      "source": [
        "# Loading Data - Only Train is relevant as competition closed\n",
        "# Use Train for Train,Validation and Test\n",
        "\n",
        "# Collab Directory\n",
        "dirs = '/content/drive/My Drive/Colab Notebooks/COS 711 Assignment 3/data/Train.csv'\n",
        "# System Directory\n",
        "# dirs = './data/Train.csv'\n",
        "\n",
        "Train = pd.read_csv(dirs)\n",
        "# Used for periodic data checks\n",
        "dummy_Train = pd.read_csv(dirs)"
      ],
      "execution_count": null,
      "outputs": []
    },
    {
      "cell_type": "code",
      "metadata": {
        "id": "czHAqXvVuPeu",
        "colab_type": "code",
        "colab": {}
      },
      "source": [
        "# Convert Strings to Numerical Values\n",
        "def replace_nan(x):\n",
        "    if x==\" \":\n",
        "        return np.nan\n",
        "    else :\n",
        "        return float(x)\n",
        "    \n",
        "features=[\"temp\",\"precip\",\"rel_humidity\",\"wind_dir\",\"wind_spd\",\"atmos_press\"]\n",
        "for feature in features : \n",
        "    Train[feature]=Train[feature].apply(lambda x: [ replace_nan(X) for X in x.replace(\"nan\",\" \").split(\",\")])\n",
        "    dummy_Train[feature]=dummy_Train[feature].apply(lambda x: [ replace_nan(X) for X in x.replace(\"nan\",\" \").split(\",\")])"
      ],
      "execution_count": null,
      "outputs": []
    },
    {
      "cell_type": "code",
      "metadata": {
        "id": "eZZHpVX3uPex",
        "colab_type": "code",
        "colab": {}
      },
      "source": [
        "# Encoding sensor location (A,B,C,D,E) as Numeric Values (0,1,2,3,4,5)\n",
        "le = preprocessing.LabelEncoder()\n",
        "Train['location'] = le.fit_transform(Train['location'])"
      ],
      "execution_count": null,
      "outputs": []
    },
    {
      "cell_type": "code",
      "metadata": {
        "id": "vqZIhbR9uPe0",
        "colab_type": "code",
        "colab": {}
      },
      "source": [
        "# type_data = ['temp', 'precip', 'rel_humidity', 'wind_dir','wind_spd', 'atmos_press']\n",
        "# for k in range(len(type_data)):\n",
        "#     number_of_full = []\n",
        "#     for i in range(len(Train[type_data[k]])):\n",
        "#         number_of_null = pd.isnull(Train[type_data[k]][i]).sum() \n",
        "#         if (121-number_of_null) == 121:\n",
        "#             number_of_full.append(121-number_of_null)\n",
        "#     print(len(number_of_full)/len(Train[type_data[k]]))\n",
        "\n",
        "\n",
        "# not NaN's Percentage\n",
        "temp_not_nans         = 0.794645730098462 * 100\n",
        "precip_not_nans       = 0.815560846901345 * 100\n",
        "rel_humidity_not_nans = 0.678293326468884 * 100\n",
        "wind_dir_not_nans     = 0.533882489220670 * 100\n",
        "wind_spd_not_nans     = 0.533882489220670 * 100\n",
        "atmos_press_not_nans  = 0.820387412317395 * 100"
      ],
      "execution_count": null,
      "outputs": []
    },
    {
      "cell_type": "markdown",
      "metadata": {
        "id": "q-0j9nMQuPe3",
        "colab_type": "text"
      },
      "source": [
        "Adding Additional Features and Removing Nan's Functions"
      ]
    },
    {
      "cell_type": "code",
      "metadata": {
        "id": "PY9L-iqOuPe4",
        "colab_type": "code",
        "colab": {}
      },
      "source": [
        "def aggregate_features(x,col_name):\n",
        "    x[\"max_\"+col_name]=x[col_name].apply(np.max)\n",
        "    x[\"min_\"+col_name]=x[col_name].apply(np.min)\n",
        "    x[\"mean_\"+col_name]=x[col_name].apply(np.mean)\n",
        "    x[\"std_\"+col_name]=x[col_name].apply(np.std)\n",
        "    x[\"var_\"+col_name]=x[col_name].apply(np.var)\n",
        "    x[\"median_\"+col_name]=x[col_name].apply(np.median)\n",
        "    x[\"ptp_\"+col_name]=x[col_name].apply(np.ptp)\n",
        "    return x      \n",
        "def remove_nan_values(x):\n",
        "    return [e for e in x if not math.isnan(e)]"
      ],
      "execution_count": null,
      "outputs": []
    },
    {
      "cell_type": "markdown",
      "metadata": {
        "id": "NqC5sKfGuPe8",
        "colab_type": "text"
      },
      "source": [
        "Adding Additional Features and Removing Nan's"
      ]
    },
    {
      "cell_type": "code",
      "metadata": {
        "id": "4MDSk-I6uPe9",
        "colab_type": "code",
        "colab": {
          "base_uri": "https://localhost:8080/",
          "height": 51
        },
        "outputId": "614647af-2dee-43c5-c13e-4e2a81127d68"
      },
      "source": [
        "for col_name in tqdm(features):\n",
        "    Train[col_name]=Train[col_name].apply(remove_nan_values)\n",
        "for col_name in tqdm(features):\n",
        "    Train = aggregate_features(Train,col_name)"
      ],
      "execution_count": null,
      "outputs": [
        {
          "output_type": "stream",
          "text": [
            "100%|██████████| 6/6 [00:01<00:00,  3.07it/s]\n",
            "100%|██████████| 6/6 [00:15<00:00,  2.56s/it]\n"
          ],
          "name": "stderr"
        }
      ]
    },
    {
      "cell_type": "markdown",
      "metadata": {
        "id": "77EO6jkduPfA",
        "colab_type": "text"
      },
      "source": [
        "## ------------------------- Mean, Median, Mode-Imputation -------------------------"
      ]
    },
    {
      "cell_type": "code",
      "metadata": {
        "id": "Khx0qzufuPfA",
        "colab_type": "code",
        "colab": {}
      },
      "source": [
        "# Setting NaN's to the mean of the list\n",
        "type_data = ['temp', 'precip', 'rel_humidity', 'wind_dir','wind_spd', 'atmos_press']\n",
        "for k in range(len(type_data)):\n",
        "    for i in range(len(Train[type_data[k]])):\n",
        "      # Train.at[i,type_data[k]]= pd.Series(dummy_Train[type_data[k]][i]).fillna(np.nanmedian(dummy_Train[type_data[k]][i])).tolist()\n",
        "      Train.at[i,type_data[k]]= pd.Series(dummy_Train[type_data[k]][i]).fillna(np.nanmean(dummy_Train[type_data[k]][i])).tolist()"
      ],
      "execution_count": null,
      "outputs": []
    },
    {
      "cell_type": "code",
      "metadata": {
        "id": "q1YvVp5FuPfG",
        "colab_type": "code",
        "colab": {}
      },
      "source": [
        "for x in range(121):\n",
        "    Train[\"newtemp\"+ str(x)] = Train.temp.str[x]\n",
        "    Train[\"newprecip\"+ str(x)] = Train.precip.str[x]\n",
        "    Train[\"newrel_humidity\"+ str(x)] = Train.rel_humidity.str[x]\n",
        "    Train[\"newwind_dir\"+ str(x)] = Train.wind_dir.str[x]\n",
        "    Train[\"windspeed\"+ str(x)] = Train.wind_spd.str[x]\n",
        "    Train[\"atmospherepressure\"+ str(x)] = Train.atmos_press.str[x]"
      ],
      "execution_count": null,
      "outputs": []
    },
    {
      "cell_type": "code",
      "metadata": {
        "id": "ZRQV4uxZuPfK",
        "colab_type": "code",
        "colab": {}
      },
      "source": [
        "# Saving Cleaned and Edited DataFrame - Populating NaN's with mean values\n",
        "Train.to_csv('/content/drive/My Drive/Colab Notebooks/COS 711 Assignment 3/data/data_cleaned_mean.csv')"
      ],
      "execution_count": null,
      "outputs": []
    },
    {
      "cell_type": "markdown",
      "metadata": {
        "id": "_XUqihaTuPfR",
        "colab_type": "text"
      },
      "source": [
        "## ------------------------- KNN-Imputation -------------------------"
      ]
    },
    {
      "cell_type": "code",
      "metadata": {
        "id": "Zwhod3wzuPfR",
        "colab_type": "code",
        "colab": {}
      },
      "source": [
        "temps = []\n",
        "precips = []\n",
        "rel_humiditys = []\n",
        "wind_dirs = []\n",
        "wind_spds = []\n",
        "atmos_presss = []\n",
        "for i in range(len(dummy_Train['temp'])):\n",
        "    temps.append(dummy_Train['temp'][i])\n",
        "    precips.append(dummy_Train['precip'][i])\n",
        "    rel_humiditys.append(dummy_Train['rel_humidity'][i])\n",
        "    wind_dirs.append(dummy_Train['wind_dir'][i])\n",
        "    wind_spds.append(dummy_Train['wind_spd'][i])\n",
        "    atmos_presss.append(dummy_Train['atmos_press'][i])\n",
        "temps = np.array(temps)\n",
        "precips = np.array(precips)\n",
        "rel_humiditys = np.array(rel_humiditys)\n",
        "wind_dirs = np.array(wind_dirs)\n",
        "wind_spds = np.array(wind_spds)\n",
        "atmos_presss = np.array(atmos_presss)"
      ],
      "execution_count": null,
      "outputs": []
    },
    {
      "cell_type": "code",
      "metadata": {
        "id": "YYC_iqH9uPfU",
        "colab_type": "code",
        "colab": {}
      },
      "source": [
        "imputer = KNNImputer(n_neighbors=10)\n",
        "temps_impute = imputer.fit_transform(temps)\n",
        "precips_impute = imputer.fit_transform(precips)\n",
        "rel_humiditys_impute = imputer.fit_transform(rel_humiditys)\n",
        "wind_dirs_impute = imputer.fit_transform(wind_dirs)\n",
        "wind_spds_impute = imputer.fit_transform(wind_spds)\n",
        "atmos_presss_impute = imputer.fit_transform(atmos_presss)"
      ],
      "execution_count": null,
      "outputs": []
    },
    {
      "cell_type": "code",
      "metadata": {
        "id": "HPrQERRMuPfX",
        "colab_type": "code",
        "colab": {}
      },
      "source": [
        "for i in range(len(Train['temp'])):\n",
        "        Train.at[i,'temp']= temps_impute[i].tolist()\n",
        "        Train.at[i,'precip']= precips_impute[i].tolist()\n",
        "        Train.at[i,'rel_humidity']= rel_humiditys_impute[i].tolist()\n",
        "        Train.at[i,'wind_dir']= wind_dirs_impute[i].tolist()\n",
        "        Train.at[i,'wind_spd']= wind_spds_impute[i].tolist()\n",
        "        Train.at[i,'atmos_press']= atmos_presss_impute[i].tolist()"
      ],
      "execution_count": null,
      "outputs": []
    },
    {
      "cell_type": "code",
      "metadata": {
        "id": "_p0_HCotuPfZ",
        "colab_type": "code",
        "colab": {}
      },
      "source": [
        "for x in range(121):\n",
        "    Train[\"newtemp\"+ str(x)] = Train.temp.str[x]\n",
        "    Train[\"newprecip\"+ str(x)] = Train.precip.str[x]\n",
        "    Train[\"newrel_humidity\"+ str(x)] = Train.rel_humidity.str[x]\n",
        "    Train[\"newwind_dir\"+ str(x)] = Train.wind_dir.str[x]\n",
        "    Train[\"windspeed\"+ str(x)] = Train.wind_spd.str[x]\n",
        "    Train[\"atmospherepressure\"+ str(x)] = Train.atmos_press.str[x]\n"
      ],
      "execution_count": null,
      "outputs": []
    },
    {
      "cell_type": "code",
      "metadata": {
        "id": "JQlLXao-uPfh",
        "colab_type": "code",
        "colab": {}
      },
      "source": [
        "# Saving Cleaned and Edited DataFrame - Populating NaN's with knn values\n",
        "Train.to_csv('/content/drive/My Drive/Colab Notebooks/COS 711 Assignment 3/data/data_cleaned_knn.csv')"
      ],
      "execution_count": null,
      "outputs": []
    },
    {
      "cell_type": "markdown",
      "metadata": {
        "id": "YiXG5c0DCI6O",
        "colab_type": "text"
      },
      "source": [
        "## ------------------------- MICE-Imputation -------------------------"
      ]
    },
    {
      "cell_type": "code",
      "metadata": {
        "id": "WyE3-8UbuPfl",
        "colab_type": "code",
        "colab": {}
      },
      "source": [
        "temps = []\n",
        "precips = []\n",
        "rel_humiditys = []\n",
        "wind_dirs = []\n",
        "wind_spds = []\n",
        "atmos_presss = []\n",
        "for i in range(len(dummy_Train['temp'])):\n",
        "    temps.append(dummy_Train['temp'][i])\n",
        "    precips.append(dummy_Train['precip'][i])\n",
        "    rel_humiditys.append(dummy_Train['rel_humidity'][i])\n",
        "    wind_dirs.append(dummy_Train['wind_dir'][i])\n",
        "    wind_spds.append(dummy_Train['wind_spd'][i])\n",
        "    atmos_presss.append(dummy_Train['atmos_press'][i])\n",
        "temps = np.array(temps)\n",
        "precips = np.array(precips)\n",
        "rel_humiditys = np.array(rel_humiditys)\n",
        "wind_dirs = np.array(wind_dirs)\n",
        "wind_spds = np.array(wind_spds)\n",
        "atmos_presss = np.array(atmos_presss)"
      ],
      "execution_count": null,
      "outputs": []
    },
    {
      "cell_type": "code",
      "metadata": {
        "id": "JDAPTCZOWXbE",
        "colab_type": "code",
        "colab": {}
      },
      "source": [
        "imputer = IterativeImputer(max_iter=10, random_state=1, sample_posterior=True)\n",
        "temps_impute = imputer.fit_transform(temps)\n",
        "precips_impute = imputer.fit_transform(precips)\n",
        "rel_humiditys_impute = imputer.fit_transform(rel_humiditys)\n",
        "wind_dirs_impute = imputer.fit_transform(wind_dirs)\n",
        "wind_spds_impute = imputer.fit_transform(wind_spds)\n",
        "atmos_presss_impute = imputer.fit_transform(atmos_presss)\n"
      ],
      "execution_count": null,
      "outputs": []
    },
    {
      "cell_type": "code",
      "metadata": {
        "id": "hL7zFlSiCH7e",
        "colab_type": "code",
        "colab": {}
      },
      "source": [
        "for i in range(len(Train['temp'])):\n",
        "        Train.at[i,'temp']= temps_impute[i].tolist()\n",
        "        Train.at[i,'precip']= precips_impute[i].tolist()\n",
        "        Train.at[i,'rel_humidity']= rel_humiditys_impute[i].tolist()\n",
        "        Train.at[i,'wind_dir']= wind_dirs_impute[i].tolist()\n",
        "        Train.at[i,'wind_spd']= wind_spds_impute[i].tolist()\n",
        "        Train.at[i,'atmos_press']= atmos_presss_impute[i].tolist()"
      ],
      "execution_count": null,
      "outputs": []
    },
    {
      "cell_type": "code",
      "metadata": {
        "id": "H1oPUb6BCH3h",
        "colab_type": "code",
        "colab": {}
      },
      "source": [
        "for x in range(121):\n",
        "    Train[\"newtemp\"+ str(x)] = Train.temp.str[x]\n",
        "    Train[\"newprecip\"+ str(x)] = Train.precip.str[x]\n",
        "    Train[\"newrel_humidity\"+ str(x)] = Train.rel_humidity.str[x]\n",
        "    Train[\"newwind_dir\"+ str(x)] = Train.wind_dir.str[x]\n",
        "    Train[\"windspeed\"+ str(x)] = Train.wind_spd.str[x]\n",
        "    Train[\"atmospherepressure\"+ str(x)] = Train.atmos_press.str[x]"
      ],
      "execution_count": null,
      "outputs": []
    },
    {
      "cell_type": "code",
      "metadata": {
        "id": "44RxKiWGCHy7",
        "colab_type": "code",
        "colab": {}
      },
      "source": [
        "# Saving Cleaned and Edited DataFrame - Populating NaN's with mice values\n",
        "Train.to_csv('/content/drive/My Drive/Colab Notebooks/COS 711 Assignment 3/data/data_cleaned_mice.csv')"
      ],
      "execution_count": null,
      "outputs": []
    }
  ]
}