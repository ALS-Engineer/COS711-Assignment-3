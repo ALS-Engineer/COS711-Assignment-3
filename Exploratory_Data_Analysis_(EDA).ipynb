{
  "nbformat": 4,
  "nbformat_minor": 0,
  "metadata": {
    "colab": {
      "name": "Exploratory_Data_Analysis_(EDA).ipynb",
      "provenance": [],
      "collapsed_sections": [
        "q_JDj0-M1fww",
        "Lk6Yw5M31kBY",
        "015bnQKuAZWk"
      ]
    },
    "kernelspec": {
      "name": "python3",
      "display_name": "Python 3"
    }
  },
  "cells": [
    {
      "cell_type": "markdown",
      "metadata": {
        "id": "q_JDj0-M1fww",
        "colab_type": "text"
      },
      "source": [
        "# Imports"
      ]
    },
    {
      "cell_type": "code",
      "metadata": {
        "id": "jcwU60Xu05Q9",
        "colab_type": "code",
        "colab": {
          "base_uri": "https://localhost:8080/",
          "height": 122
        },
        "outputId": "6a8cc73e-176a-432b-b2c1-acc85f7f0bc2"
      },
      "source": [
        "#Mount Drive\n",
        "from google.colab import drive\n",
        "drive.mount('/content/drive')"
      ],
      "execution_count": null,
      "outputs": [
        {
          "output_type": "stream",
          "text": [
            "Go to this URL in a browser: https://accounts.google.com/o/oauth2/auth?client_id=947318989803-6bn6qk8qdgf4n4g3pfee6491hc0brc4i.apps.googleusercontent.com&redirect_uri=urn%3aietf%3awg%3aoauth%3a2.0%3aoob&response_type=code&scope=email%20https%3a%2f%2fwww.googleapis.com%2fauth%2fdocs.test%20https%3a%2f%2fwww.googleapis.com%2fauth%2fdrive%20https%3a%2f%2fwww.googleapis.com%2fauth%2fdrive.photos.readonly%20https%3a%2f%2fwww.googleapis.com%2fauth%2fpeopleapi.readonly\n",
            "\n",
            "Enter your authorization code:\n",
            "··········\n",
            "Mounted at /content/drive\n"
          ],
          "name": "stdout"
        }
      ]
    },
    {
      "cell_type": "code",
      "metadata": {
        "id": "uio8jsIH1Klu",
        "colab_type": "code",
        "colab": {}
      },
      "source": [
        "# General\n",
        "import numpy as np\n",
        "from matplotlib import pyplot as plt\n",
        "import seaborn as sns\n",
        "import statistics\n",
        "import pandas as pd\n",
        "sns.set()\n",
        "\n",
        "# keras imports\n",
        "from keras.models import Sequential\n",
        "from keras.layers import Dense, Dropout, Activation, InputLayer, Conv1D, Flatten, MaxPool1D, BatchNormalization, MaxPooling1D\n",
        "from keras.layers import PReLU \n",
        "from keras.initializers import glorot_uniform\n",
        "from keras import optimizers\n",
        "\n",
        "# sklearn imports\n",
        "from sklearn.model_selection import train_test_split\n",
        "from sklearn.preprocessing import  MinMaxScaler,StandardScaler\n",
        "from sklearn import metrics\n",
        "from sklearn.model_selection import KFold\n",
        "from sklearn.feature_selection import SelectKBest\n",
        "from sklearn.feature_selection import f_regression\n",
        "import scipy.stats as scistats"
      ],
      "execution_count": null,
      "outputs": []
    },
    {
      "cell_type": "markdown",
      "metadata": {
        "id": "Lk6Yw5M31kBY",
        "colab_type": "text"
      },
      "source": [
        "# Importing Datasets"
      ]
    },
    {
      "cell_type": "code",
      "metadata": {
        "id": "OhK1weNT1Xbm",
        "colab_type": "code",
        "colab": {}
      },
      "source": [
        "df_mean   = pd.read_csv('/content/drive/My Drive/Colab Notebooks/COS 711 Assignment 3/data/data_cleaned_means.csv'       )\n",
        "df_median = pd.read_csv('/content/drive/My Drive/Colab Notebooks/COS 711 Assignment 3/data/data_cleaned_median.csv'      )\n",
        "df_knn    = pd.read_csv('/content/drive/My Drive/Colab Notebooks/COS 711 Assignment 3/data/data_cleaned_knn.csv'         )\n",
        "df_mice   = pd.read_csv('/content/drive/My Drive/Colab Notebooks/COS 711 Assignment 3/data/data_cleaned_mice.csv'        )\n",
        "df_nans   = pd.read_csv('/content/drive/My Drive/Colab Notebooks/COS 711 Assignment 3/data/data_cleaned_nans_removed.csv')"
      ],
      "execution_count": null,
      "outputs": []
    },
    {
      "cell_type": "markdown",
      "metadata": {
        "id": "015bnQKuAZWk",
        "colab_type": "text"
      },
      "source": [
        "# Matplotlib Parameters"
      ]
    },
    {
      "cell_type": "code",
      "metadata": {
        "id": "cJ4Vy9Cl3huz",
        "colab_type": "code",
        "colab": {}
      },
      "source": [
        "plt.rcParams.update({\n",
        "                     'axes.titlesize'  : 22,\n",
        "                     'xtick.labelsize' : 12,\n",
        "                     'ytick.labelsize' : 12,\n",
        "                     'axes.labelsize'  : 16\n",
        "                     })\n",
        "\n",
        "plt.rcParams['figure.figsize'] = (10,6) \n",
        "plt.rcParams[\"font.family\"] = \"Serif\"\n",
        "plt.rcParams['font.serif'] = ['Times New Roman'] + plt.rcParams['font.serif']\n",
        "# plt.rcParams.keys()"
      ],
      "execution_count": null,
      "outputs": []
    },
    {
      "cell_type": "markdown",
      "metadata": {
        "id": "jBLVog2TAfGt",
        "colab_type": "text"
      },
      "source": [
        "# Data Visualisations"
      ]
    },
    {
      "cell_type": "code",
      "metadata": {
        "id": "7GaYNHK71wCG",
        "colab_type": "code",
        "colab": {
          "base_uri": "https://localhost:8080/",
          "height": 998
        },
        "outputId": "c959528b-02cb-4333-c50b-5a29db69b9b5"
      },
      "source": [
        "# Visualising the Distribution of the target variable\n",
        "plt.figure(1)\n",
        "sns.distplot(df_mean['target'], color='g', bins=100, hist_kws={'alpha': 0.5})\n",
        "plt.plot([40,40],[0,0.019],'k--',linewidth = 2,label = 'Mode')\n",
        "plt.plot([58.24242947814734,58.24242947814734],[0,0.01],'r--',linewidth = 2,label = 'Mean')\n",
        "plt.title('Distribution of target variable',y=1.05)\n",
        "plt.xlabel(r'Air Quality - PM$_{2.5}$ [$\\mu/m^3$]')\n",
        "plt.legend(loc='best', fontsize = 18)\n",
        "plt.tight_layout()\n",
        "plt.show()\n",
        "\n",
        "print('#'*150)\n",
        "\n",
        "# Descriptions of the target variable\n",
        "print('-'*30)\n",
        "print('Target Variable Description')\n",
        "print('-'*30)\n",
        "print(df_median['target'].describe())\n",
        "print('#'*150)\n",
        "print('Percentage of Retained Dataset by removing NaN rows : ',(1 - ((df_mean.shape[0] - df_nans.shape[0])/df_mean.shape[0]))*100)\n",
        "print('Not a viable approach as over 50% of the data has been removed')\n",
        "print('#'*150)\n",
        "\n",
        "# NaN's Percentage\n",
        "temp_not_nans         = 0.794645730098462 * 100\n",
        "precip_not_nans       = 0.815560846901345 * 100\n",
        "rel_humidity_not_nans = 0.678293326468884 * 100\n",
        "wind_dir_not_nans     = 0.533882489220670 * 100\n",
        "wind_spd_not_nans     = 0.533882489220670 * 100\n",
        "atmos_press_not_nans  = 0.820387412317395 * 100\n",
        "\n",
        "print('-'*60)\n",
        "print('NaN Percentages (Data Percentages that are not NaNs)')\n",
        "print('-'*60)\n",
        "print('temp : ',round(temp_not_nans,2) )\n",
        "print('precip : ',round(precip_not_nans,2) )\n",
        "print('rel humidity : ',round(rel_humidity_not_nans,2))\n",
        "print('wind dir : ',round(wind_dir_not_nans,2))\n",
        "print('wind spd : ',round(wind_spd_not_nans,2))\n",
        "print('atmos press : ',round(atmos_press_not_nans,2))\n",
        "print('#'*150)\n",
        "print('Number of Total Features : 769')\n",
        "print('-'*60)\n",
        "print('Aggregate Features : 42')\n",
        "print('Location Feature : 1')\n",
        "print('Sensor Features 6*121 = 726')\n",
        "print('#'*150)"
      ],
      "execution_count": null,
      "outputs": [
        {
          "output_type": "display_data",
          "data": {
            "image/png": "[encoded data removed]",
            "text/plain": [
              "<Figure size 720x432 with 1 Axes>"
            ]
          },
          "metadata": {
            "tags": []
          }
        },
        {
          "output_type": "stream",
          "text": [
            "######################################################################################################################################################\n",
            "------------------------------\n",
            "Target Variable Description\n",
            "------------------------------\n",
            "count    15539.000000\n",
            "mean        58.242429\n",
            "std         42.373700\n",
            "min          1.452619\n",
            "25%         33.482625\n",
            "50%         46.504048\n",
            "75%         68.569062\n",
            "max        475.820000\n",
            "Name: target, dtype: float64\n",
            "######################################################################################################################################################\n",
            "Percentage of Retained Dataset by removing NaN rows :  46.4122530407362\n",
            "Not a viable approach as over 50% of the data has been removed\n",
            "######################################################################################################################################################\n",
            "------------------------------------------------------------\n",
            "NaN Percentages (Data Percentages that are not NaNs)\n",
            "------------------------------------------------------------\n",
            "temp :  79.46\n",
            "precip :  81.56\n",
            "rel humidity :  67.83\n",
            "wind dir :  53.39\n",
            "wind spd :  53.39\n",
            "atmos press :  82.04\n",
            "######################################################################################################################################################\n",
            "Number of Total Features : 769\n",
            "------------------------------------------------------------\n",
            "Aggregate Features : 42\n",
            "Location Feature : 1\n",
            "Sensor Features 6*121 = 726\n",
            "######################################################################################################################################################\n"
          ],
          "name": "stdout"
        }
      ]
    },
    {
      "cell_type": "markdown",
      "metadata": {
        "id": "THPU6YAEkSJq",
        "colab_type": "text"
      },
      "source": [
        "# Feature Importance"
      ]
    },
    {
      "cell_type": "code",
      "metadata": {
        "id": "4G-GDazj2veC",
        "colab_type": "code",
        "colab": {
          "base_uri": "https://localhost:8080/",
          "height": 419
        },
        "outputId": "01a358c1-4c02-4645-9499-e0d4c0037b98"
      },
      "source": [
        "def perturbation_rank(model, x, y, names):\n",
        "    errors = []\n",
        "\n",
        "    for i in range(x.shape[1]):\n",
        "        hold = np.array(x[:, i])\n",
        "        np.random.shuffle(x[:, i])\n",
        "        pred = model.predict(x)\n",
        "        error = metrics.mean_squared_error(y, pred)  \n",
        "        errors.append(error)\n",
        "        x[:, i] = hold\n",
        "        \n",
        "    max_error = np.max(errors)\n",
        "    importance = [e/max_error for e in errors]\n",
        "\n",
        "    data = {'name':names,'error':errors,'importance':importance}\n",
        "    result = pd.DataFrame(data, columns = ['name','error','importance'])\n",
        "    result.sort_values(by=['importance'], ascending=[0], inplace=True)\n",
        "    result.reset_index(inplace=True, drop=True)\n",
        "    return result\n",
        "\n",
        "data_mean    = df_mean.drop(columns=['Unnamed: 0','ID','target','temp', 'precip', 'rel_humidity', 'wind_dir','wind_spd', 'atmos_press',])\n",
        "label_mean   = df_mean['target']\n",
        "\n",
        "data_median  = df_median.drop(columns=['Unnamed: 0','ID','target','temp', 'precip', 'rel_humidity', 'wind_dir','wind_spd', 'atmos_press',])\n",
        "label_median = df_median['target']\n",
        "\n",
        "data_knn     = df_knn.drop(columns=['Unnamed: 0','ID','target','temp', 'precip', 'rel_humidity', 'wind_dir','wind_spd', 'atmos_press',]) \n",
        "label_knn    = df_knn['target']\n",
        "\n",
        "data_mice    = df_mice.drop(columns=['Unnamed: 0','ID','target','temp', 'precip', 'rel_humidity', 'wind_dir','wind_spd', 'atmos_press',]) \n",
        "label_mice   = df_mice['target']\n",
        "\n",
        "# Change to get feature importance of each dataset #######\n",
        "X = data_mean\n",
        "yy = label_mean\n",
        "##########################################################\n",
        "\n",
        "y = np.array(yy)\n",
        "y = y.reshape(-1,1)\n",
        "scalery = StandardScaler().fit(y)\n",
        "y = scalery.transform(y)\n",
        "\n",
        "val_per = 0.2\n",
        "test_per = 0.1\n",
        "\n",
        "validation = X.shape[0]*val_per\n",
        "testing = X.shape[0]*test_per\n",
        "training = X.shape[0] - validation - testing\n",
        "\n",
        "X_remain, X_test, y_remain, y_test = train_test_split(X, y, test_size=test_per, random_state=42)\n",
        "per = 1-(training/X_remain.shape[0])\n",
        "X_train,X_val,y_train,y_val =  train_test_split(X_remain, y_remain, test_size=per, random_state=42)\n",
        "\n",
        "\n",
        "scalerX_train = StandardScaler().fit(X_train)\n",
        "scalerX_val = StandardScaler().fit(X_val)\n",
        "scalerX_test = StandardScaler().fit(X_test)\n",
        "X_train = scalerX_train.transform(X_train)\n",
        "X_val = scalerX_val.transform(X_val)\n",
        "X_test = scalerX_test.transform(X_test)\n",
        "\n",
        "input_dim = X_train.shape[1] \n",
        "model = Sequential()\n",
        "model.add(Dense(50,input_dim = input_dim, activation = 'relu'))\n",
        "model.add(Dense(10 , activation = 'relu'))\n",
        "model.add(Dense(1,activation='linear'))\n",
        "\n",
        "names = list(X.columns)\n",
        "rank = perturbation_rank(model,X_train,y_train,names)"
      ],
      "execution_count": null,
      "outputs": [
        {
          "output_type": "display_data",
          "data": {
            "text/html": [
              "<div>\n",
              "<style scoped>\n",
              "    .dataframe tbody tr th:only-of-type {\n",
              "        vertical-align: middle;\n",
              "    }\n",
              "\n",
              "    .dataframe tbody tr th {\n",
              "        vertical-align: top;\n",
              "    }\n",
              "\n",
              "    .dataframe thead th {\n",
              "        text-align: right;\n",
              "    }\n",
              "</style>\n",
              "<table border=\"1\" class=\"dataframe\">\n",
              "  <thead>\n",
              "    <tr style=\"text-align: right;\">\n",
              "      <th></th>\n",
              "      <th>name</th>\n",
              "      <th>error</th>\n",
              "      <th>importance</th>\n",
              "    </tr>\n",
              "  </thead>\n",
              "  <tbody>\n",
              "    <tr>\n",
              "      <th>0</th>\n",
              "      <td>atmospherepressure24</td>\n",
              "      <td>2.464586</td>\n",
              "      <td>1.000000</td>\n",
              "    </tr>\n",
              "    <tr>\n",
              "      <th>1</th>\n",
              "      <td>windspeed56</td>\n",
              "      <td>2.452732</td>\n",
              "      <td>0.995190</td>\n",
              "    </tr>\n",
              "    <tr>\n",
              "      <th>2</th>\n",
              "      <td>mean_atmos_press</td>\n",
              "      <td>2.450983</td>\n",
              "      <td>0.994481</td>\n",
              "    </tr>\n",
              "    <tr>\n",
              "      <th>3</th>\n",
              "      <td>atmospherepressure85</td>\n",
              "      <td>2.450400</td>\n",
              "      <td>0.994244</td>\n",
              "    </tr>\n",
              "    <tr>\n",
              "      <th>4</th>\n",
              "      <td>atmospherepressure39</td>\n",
              "      <td>2.445563</td>\n",
              "      <td>0.992281</td>\n",
              "    </tr>\n",
              "    <tr>\n",
              "      <th>...</th>\n",
              "      <td>...</td>\n",
              "      <td>...</td>\n",
              "      <td>...</td>\n",
              "    </tr>\n",
              "    <tr>\n",
              "      <th>764</th>\n",
              "      <td>windspeed49</td>\n",
              "      <td>2.368789</td>\n",
              "      <td>0.961130</td>\n",
              "    </tr>\n",
              "    <tr>\n",
              "      <th>765</th>\n",
              "      <td>atmospherepressure28</td>\n",
              "      <td>2.367907</td>\n",
              "      <td>0.960772</td>\n",
              "    </tr>\n",
              "    <tr>\n",
              "      <th>766</th>\n",
              "      <td>windspeed30</td>\n",
              "      <td>2.367710</td>\n",
              "      <td>0.960693</td>\n",
              "    </tr>\n",
              "    <tr>\n",
              "      <th>767</th>\n",
              "      <td>atmospherepressure99</td>\n",
              "      <td>2.366457</td>\n",
              "      <td>0.960184</td>\n",
              "    </tr>\n",
              "    <tr>\n",
              "      <th>768</th>\n",
              "      <td>atmospherepressure108</td>\n",
              "      <td>2.366063</td>\n",
              "      <td>0.960024</td>\n",
              "    </tr>\n",
              "  </tbody>\n",
              "</table>\n",
              "<p>769 rows × 3 columns</p>\n",
              "</div>"
            ],
            "text/plain": [
              "                      name     error  importance\n",
              "0     atmospherepressure24  2.464586    1.000000\n",
              "1              windspeed56  2.452732    0.995190\n",
              "2         mean_atmos_press  2.450983    0.994481\n",
              "3     atmospherepressure85  2.450400    0.994244\n",
              "4     atmospherepressure39  2.445563    0.992281\n",
              "..                     ...       ...         ...\n",
              "764            windspeed49  2.368789    0.961130\n",
              "765   atmospherepressure28  2.367907    0.960772\n",
              "766            windspeed30  2.367710    0.960693\n",
              "767   atmospherepressure99  2.366457    0.960184\n",
              "768  atmospherepressure108  2.366063    0.960024\n",
              "\n",
              "[769 rows x 3 columns]"
            ]
          },
          "metadata": {
            "tags": []
          }
        }
      ]
    },
    {
      "cell_type": "code",
      "metadata": {
        "id": "yuTnRntEv4J0",
        "colab_type": "code",
        "colab": {}
      },
      "source": [
        "display(rank)"
      ],
      "execution_count": null,
      "outputs": []
    },
    {
      "cell_type": "code",
      "metadata": {
        "id": "Sbtkgwxx1v_f",
        "colab_type": "code",
        "colab": {
          "base_uri": "https://localhost:8080/",
          "height": 340
        },
        "outputId": "215c6e3a-386c-4056-aa67-dfd915f5a088"
      },
      "source": [
        "bestfeatures = SelectKBest(score_func=f_regression,k=10)\n",
        "fit = bestfeatures.fit(X,yy)\n",
        "dfscores = pd.DataFrame(fit.scores_)\n",
        "dfcolumns = pd.DataFrame(X.columns)\n",
        "featureScores = pd.concat([dfcolumns,dfscores],axis=1)\n",
        "featureScores.columns = ['Specs','Score']  #naming the dataframe columns\n",
        "print(featureScores.nlargest(10,'Score'))"
      ],
      "execution_count": null,
      "outputs": [
        {
          "output_type": "stream",
          "text": [
            "            Specs       Score\n",
            "767  windspeed120  626.280879\n",
            "761  windspeed119  594.498501\n",
            "617   windspeed95  561.014087\n",
            "475     newtemp72  552.495017\n",
            "623   windspeed96  549.575557\n",
            "335   windspeed48  548.832426\n",
            "191   windspeed24  548.251192\n",
            "43       newtemp0  544.999961\n",
            "187     newtemp24  542.805094\n",
            "329   windspeed47  542.661258\n"
          ],
          "name": "stdout"
        },
        {
          "output_type": "stream",
          "text": [
            "/usr/local/lib/python3.6/dist-packages/sklearn/feature_selection/_univariate_selection.py:299: RuntimeWarning: invalid value encountered in true_divide\n",
            "  corr /= X_norms\n",
            "/usr/local/lib/python3.6/dist-packages/scipy/stats/_distn_infrastructure.py:903: RuntimeWarning: invalid value encountered in greater\n",
            "  return (a < x) & (x < b)\n",
            "/usr/local/lib/python3.6/dist-packages/scipy/stats/_distn_infrastructure.py:903: RuntimeWarning: invalid value encountered in less\n",
            "  return (a < x) & (x < b)\n",
            "/usr/local/lib/python3.6/dist-packages/scipy/stats/_distn_infrastructure.py:1912: RuntimeWarning: invalid value encountered in less_equal\n",
            "  cond2 = cond0 & (x <= _a)\n"
          ],
          "name": "stderr"
        }
      ]
    },
    {
      "cell_type": "markdown",
      "metadata": {
        "id": "4ysjIYRBvlZF",
        "colab_type": "text"
      },
      "source": [
        "# **Data Scaling**"
      ]
    },
    {
      "cell_type": "code",
      "metadata": {
        "id": "JQeAaUsivk4L",
        "colab_type": "code",
        "colab": {
          "base_uri": "https://localhost:8080/",
          "height": 488
        },
        "outputId": "5579fd71-9101-417b-add9-befa69171b60"
      },
      "source": [
        "plt.figure(2)\n",
        "sns.distplot(np.log(df_mean['target']), color='g', bins=100, hist_kws={'alpha': 0.5})\n",
        "plt.plot([np.mean(np.log(df_mean['target'])),np.mean(np.log(df_mean['target']))],[0,0.78],'r--',linewidth = 2,label = 'Mean')\n",
        "plt.plot([3.82,3.82],[0,0.8],'k--',linewidth = 2,label = 'Mode')\n",
        "plt.title('Distribution of transformed target variable',y=1.05)\n",
        "plt.xlabel(r'log(Air Quality - PM$_{2.5}$ [$\\mu/m^3$])')\n",
        "plt.legend(loc='best', fontsize = 18)\n",
        "plt.tight_layout()\n",
        "plt.show()\n",
        "\n",
        "print()\n",
        "print('Skewness Before Transformation : ',df_mean['target'].skew())\n",
        "print('Skewness After Transformation  : ',np.log(df_mean['target']).skew())"
      ],
      "execution_count": null,
      "outputs": [
        {
          "output_type": "display_data",
          "data": {
            "image/png": "[encoded data removed]",
            "text/plain": [
              "<Figure size 720x432 with 1 Axes>"
            ]
          },
          "metadata": {
            "tags": []
          }
        },
        {
          "output_type": "stream",
          "text": [
            "\n",
            "Skewness Before Transformation :  2.6239709949505463\n",
            "Skewness After Transformation  :  -0.03234474120771468\n"
          ],
          "name": "stdout"
        }
      ]
    },
    {
      "cell_type": "code",
      "metadata": {
        "id": "5PZ9C67YFIBt",
        "colab_type": "code",
        "colab": {}
      },
      "source": [
        ""
      ],
      "execution_count": null,
      "outputs": []
    }
  ]
}